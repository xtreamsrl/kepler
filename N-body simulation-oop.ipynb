{
 "cells": [
  {
   "cell_type": "markdown",
   "metadata": {},
   "source": [
    "# The N-body problem"
   ]
  },
  {
   "cell_type": "markdown",
   "metadata": {
    "collapsed": false,
    "jupyter": {
     "outputs_hidden": false
    }
   },
   "source": [
    "### Imports"
   ]
  },
  {
   "cell_type": "code",
   "execution_count": 1,
   "metadata": {
    "ExecuteTime": {
     "end_time": "2023-10-13T10:21:01.874375Z",
     "start_time": "2023-10-13T10:21:01.589168Z"
    },
    "id": "4TOe62heLbhX"
   },
   "outputs": [],
   "source": [
    "# Magic function: enables interactive plot\n",
    "%matplotlib widget\n",
    "import numpy as np\n",
    "\n",
    "import matplotlib as mpl\n",
    "import matplotlib.pyplot as plt\n",
    "from matplotlib.animation import FuncAnimation\n",
    "\n",
    "from dataclasses import dataclass"
   ]
  },
  {
   "cell_type": "markdown",
   "metadata": {
    "collapsed": false,
    "jupyter": {
     "outputs_hidden": false
    }
   },
   "source": [
    "### Initial conditions"
   ]
  },
  {
   "cell_type": "code",
   "execution_count": 2,
   "metadata": {},
   "outputs": [],
   "source": [
    "class Body:\n",
    "    def __init__(self, name: str, mass: float, initial_position: np.array, initial_velocity: np.array):\n",
    "        self.name = name\n",
    "        self.mass = mass\n",
    "        self.positions = [initial_position]\n",
    "        self.velocities = [initial_velocity]\n",
    "\n",
    "    def get_last_position(self):\n",
    "        return self.positions[-1]\n",
    "\n",
    "    def get_last_velocity(self):\n",
    "        return self.velocities[-1]\n",
    "\n",
    "    def update_state(self, new_position: np.array, new_velocity: np.array):\n",
    "        self.positions.append(new_position)\n",
    "        self.velocities.append(new_velocity)\n",
    "        \n",
    "    \n",
    "    "
   ]
  },
  {
   "cell_type": "code",
   "execution_count": 3,
   "metadata": {
    "ExecuteTime": {
     "end_time": "2023-10-13T10:21:01.878702Z",
     "start_time": "2023-10-13T10:21:01.877181Z"
    },
    "id": "0_Zs_Xo7KqMu"
   },
   "outputs": [],
   "source": [
    "Body1 = Body(name=\"body1\",\n",
    "             mass = 1e26, # (kg)\n",
    "             initial_position = np.array([2E4, 0, 0]), # (km)\n",
    "             initial_velocity = np.array([0, -10, 0])  # (km/s)\n",
    "            ) \n",
    "\n",
    "Body2 = Body(name=\"body2\",\n",
    "             mass = 1e26, # (kg)\n",
    "             initial_position = np.array([-2E4, 0, 0]), # (km)\n",
    "             initial_velocity = np.array([0, 10, 0])    # (km/s)\n",
    "            ) \n",
    "\n",
    "Body3 = Body(name=\"body3\",\n",
    "             mass = 1e31, # (kg)\n",
    "             initial_position = np.array([0, 0, 0]), # (km)\n",
    "             initial_velocity = np.array([0, 0, 0])  # (km/s)\n",
    "            ) "
   ]
  },
  {
   "cell_type": "code",
   "execution_count": 4,
   "metadata": {},
   "outputs": [],
   "source": [
    "G = 6.67259e-20  # Gravitational constant (km**3/kg/s**2)\n",
    "\n",
    "bodies = [Body1, Body2, Body3]"
   ]
  },
  {
   "cell_type": "code",
   "execution_count": 5,
   "metadata": {},
   "outputs": [],
   "source": [
    "from typing import Callable"
   ]
  },
  {
   "cell_type": "code",
   "execution_count": 18,
   "metadata": {},
   "outputs": [],
   "source": [
    "class SolarSystem:\n",
    "    def __init__(self, planets: list[Body], increment_func: Callable):\n",
    "        self.planets = planets\n",
    "        self.increment_func = increment_func\n",
    "\n",
    "    def evolve(self, n_steps: int):\n",
    "        tn=0\n",
    "        for n in range(n_steps):\n",
    "            tn+=n*dt\n",
    "            increments = self.increment_func(tn)\n",
    "            for increment in increments:\n",
    "                a, v = increment[0], increment[1]\n",
    "                body.update_state(\n",
    "                    position=body.position + v*dt,\n",
    "                    velocity=body.velocity + a*dt\n",
    "                )\n",
    "                    \n",
    "\n",
    "    def eqm_derivatives(self):\n",
    "        derivatives = []\n",
    "        for body_A in self.planets:\n",
    "            r_A = body_A.get_last_position()\n",
    "            m_A = body_A.mass\n",
    "            v_A = body_A.get_last_velocity()\n",
    "    \n",
    "            a_A = 0\n",
    "            for body_B in self.planets:\n",
    "                if body_B.name != body_A.name:\n",
    "                    r_B = body_B.get_last_position()\n",
    "                    \n",
    "                    a_A += _G * m_A * (r_B - r_A) / np.linalg.norm(r_B - r_A)**3\n",
    "            \n",
    "            derivatives.append(np.stack([v_A, a_A]))\n",
    "    \n",
    "        derivatives = np.stack(derivatives)\n",
    "    \n",
    "        return derivatives\n",
    "\n",
    "\n",
    "    def euler(tn):\n",
    "        f = self.eqm_derivatives(tn)\n",
    "        return f\n",
    "    \n",
    "    def runge_kutta4(tn):\n",
    "        f1 = self.eqm_derivatives(tn)\n",
    "        f2 = self.eqm_derivatives(bodies + f1 * dt / 2, tn + dt / 2)  # TODO: fix this\n",
    "        f3 = self.eqm_derivatives(bodies + f2 * dt / 2, tn + dt / 2)\n",
    "        f4 = self.eqm_derivatives(bodies + f3 * dt, tn + dt)\n",
    "        return (f1 + 2 * f2 + 2 * f3 + f4) / 6\n",
    "    "
   ]
  },
  {
   "cell_type": "markdown",
   "metadata": {
    "collapsed": false,
    "jupyter": {
     "outputs_hidden": false
    }
   },
   "source": [
    "### Forward time evolution"
   ]
  },
  {
   "cell_type": "code",
   "execution_count": 19,
   "metadata": {
    "collapsed": false,
    "jupyter": {
     "outputs_hidden": false
    }
   },
   "outputs": [],
   "source": [
    "dt = 0.1  # time step (s)\n",
    "tf = 1E3  # end of simulation (s)"
   ]
  },
  {
   "cell_type": "markdown",
   "metadata": {
    "collapsed": false,
    "jupyter": {
     "outputs_hidden": false
    }
   },
   "source": [
    "### Update methods"
   ]
  },
  {
   "cell_type": "markdown",
   "metadata": {
    "collapsed": false,
    "jupyter": {
     "outputs_hidden": false
    }
   },
   "source": [
    "### Running the simulation"
   ]
  },
  {
   "cell_type": "code",
   "execution_count": 21,
   "metadata": {
    "ExecuteTime": {
     "end_time": "2023-10-13T10:21:01.894511Z",
     "start_time": "2023-10-13T10:21:01.892533Z"
    }
   },
   "outputs": [
    {
     "ename": "TypeError",
     "evalue": "SolarSystem.eqm_derivatives() takes 1 positional argument but 3 were given",
     "output_type": "error",
     "traceback": [
      "\u001b[0;31m---------------------------------------------------------------------------\u001b[0m",
      "\u001b[0;31mTypeError\u001b[0m                                 Traceback (most recent call last)",
      "Cell \u001b[0;32mIn[21], line 5\u001b[0m\n\u001b[1;32m      1\u001b[0m solar_system \u001b[38;5;241m=\u001b[39m SolarSystem(\n\u001b[1;32m      2\u001b[0m     planets\u001b[38;5;241m=\u001b[39mbodies,\n\u001b[1;32m      3\u001b[0m     increment_func\u001b[38;5;241m=\u001b[39mrunge_kutta4\n\u001b[1;32m      4\u001b[0m )\n\u001b[0;32m----> 5\u001b[0m \u001b[43msolar_system\u001b[49m\u001b[38;5;241;43m.\u001b[39;49m\u001b[43mevolve\u001b[49m\u001b[43m(\u001b[49m\u001b[43mn_steps\u001b[49m\u001b[38;5;241;43m=\u001b[39;49m\u001b[38;5;241;43m100\u001b[39;49m\u001b[43m)\u001b[49m\n",
      "Cell \u001b[0;32mIn[18], line 10\u001b[0m, in \u001b[0;36mSolarSystem.evolve\u001b[0;34m(self, n_steps)\u001b[0m\n\u001b[1;32m      8\u001b[0m \u001b[38;5;28;01mfor\u001b[39;00m n \u001b[38;5;129;01min\u001b[39;00m \u001b[38;5;28mrange\u001b[39m(n_steps):\n\u001b[1;32m      9\u001b[0m     tn\u001b[38;5;241m+\u001b[39m\u001b[38;5;241m=\u001b[39mn\u001b[38;5;241m*\u001b[39mdt\n\u001b[0;32m---> 10\u001b[0m     increments \u001b[38;5;241m=\u001b[39m \u001b[38;5;28;43mself\u001b[39;49m\u001b[38;5;241;43m.\u001b[39;49m\u001b[43mincrement_func\u001b[49m\u001b[43m(\u001b[49m\u001b[38;5;28;43mself\u001b[39;49m\u001b[38;5;241;43m.\u001b[39;49m\u001b[43mplanets\u001b[49m\u001b[43m,\u001b[49m\u001b[43m \u001b[49m\u001b[43mtn\u001b[49m\u001b[43m,\u001b[49m\u001b[43m \u001b[49m\u001b[38;5;28;43mself\u001b[39;49m\u001b[38;5;241;43m.\u001b[39;49m\u001b[43meqm_derivatives\u001b[49m\u001b[43m)\u001b[49m\n\u001b[1;32m     11\u001b[0m     \u001b[38;5;28;01mfor\u001b[39;00m increment \u001b[38;5;129;01min\u001b[39;00m increments:\n\u001b[1;32m     12\u001b[0m         a, v \u001b[38;5;241m=\u001b[39m increment[\u001b[38;5;241m0\u001b[39m], increment[\u001b[38;5;241m1\u001b[39m]\n",
      "Cell \u001b[0;32mIn[20], line 6\u001b[0m, in \u001b[0;36mrunge_kutta4\u001b[0;34m(bodies, tn, derivative_func)\u001b[0m\n\u001b[1;32m      5\u001b[0m \u001b[38;5;28;01mdef\u001b[39;00m \u001b[38;5;21mrunge_kutta4\u001b[39m(bodies, tn, derivative_func):\n\u001b[0;32m----> 6\u001b[0m     f1 \u001b[38;5;241m=\u001b[39m \u001b[43mderivative_func\u001b[49m\u001b[43m(\u001b[49m\u001b[43mbodies\u001b[49m\u001b[43m,\u001b[49m\u001b[43m \u001b[49m\u001b[43mtn\u001b[49m\u001b[43m)\u001b[49m\n\u001b[1;32m      7\u001b[0m     f2 \u001b[38;5;241m=\u001b[39m derivative_func(bodies \u001b[38;5;241m+\u001b[39m f1 \u001b[38;5;241m*\u001b[39m dt \u001b[38;5;241m/\u001b[39m \u001b[38;5;241m2\u001b[39m, tn \u001b[38;5;241m+\u001b[39m dt \u001b[38;5;241m/\u001b[39m \u001b[38;5;241m2\u001b[39m)\n\u001b[1;32m      8\u001b[0m     f3 \u001b[38;5;241m=\u001b[39m derivative_func(bodies \u001b[38;5;241m+\u001b[39m f2 \u001b[38;5;241m*\u001b[39m dt \u001b[38;5;241m/\u001b[39m \u001b[38;5;241m2\u001b[39m, tn \u001b[38;5;241m+\u001b[39m dt \u001b[38;5;241m/\u001b[39m \u001b[38;5;241m2\u001b[39m)\n",
      "\u001b[0;31mTypeError\u001b[0m: SolarSystem.eqm_derivatives() takes 1 positional argument but 3 were given"
     ]
    }
   ],
   "source": [
    "solar_system = SolarSystem(\n",
    "    planets=bodies,\n",
    "    increment_func=runge_kutta4\n",
    ")\n",
    "solar_system.evolve(n_steps=100)"
   ]
  },
  {
   "cell_type": "markdown",
   "metadata": {
    "collapsed": false,
    "jupyter": {
     "outputs_hidden": false
    }
   },
   "source": [
    "### Plotting the outcomes"
   ]
  },
  {
   "cell_type": "code",
   "execution_count": null,
   "metadata": {
    "ExecuteTime": {
     "end_time": "2023-10-13T10:21:02.129206Z",
     "start_time": "2023-10-13T10:21:02.127094Z"
    }
   },
   "outputs": [],
   "source": [
    "# Trajectories\n",
    "trajectories = history[:, 0, :, slice(None, None, 100)]\n",
    "trajectories.shape"
   ]
  },
  {
   "cell_type": "code",
   "execution_count": null,
   "metadata": {},
   "outputs": [],
   "source": [
    "def compute_relative_marker_size(m, max_m):\n",
    "    return 30 - 3*(np.log10(max_m) - np.log10(m))"
   ]
  },
  {
   "cell_type": "code",
   "execution_count": null,
   "metadata": {
    "ExecuteTime": {
     "end_time": "2023-10-13T10:21:02.700836Z",
     "start_time": "2023-10-13T10:21:02.698149Z"
    },
    "colab": {
     "base_uri": "https://localhost:8080/",
     "height": 17
    },
    "id": "4FvxgpwFTvYH",
    "outputId": "ef313a28-99bd-4cc1-aca8-4692a66d43ff"
   },
   "outputs": [],
   "source": [
    "plt.style.use('dark_background')\n",
    "\n",
    "fig = plt.figure()\n",
    "ax = plt.axes(projection='3d')\n",
    "colors = mpl.colormaps[\"Set3\"].colors\n",
    "marker_sizes = [compute_relative_marker_size(m, max(masses)) for m in masses]\n",
    "\n",
    "xm = np.min(trajectories[:, 0, :])\n",
    "xM = np.max(trajectories[:, 0, :])\n",
    "ym = np.min(trajectories[:, 1, :])\n",
    "yM = np.max(trajectories[:, 1, :])\n",
    "zm = np.min(trajectories[:, 2, :])\n",
    "zM = np.max(trajectories[:, 2, :])\n",
    "\n",
    "def animate(frame_num):\n",
    "    ax.clear()\n",
    "    ax.set(xlim3d=(xm, xM), xlabel=\"X\")\n",
    "    ax.set(ylim3d=(ym, yM), xlabel=\"Y\")\n",
    "    ax.set(zlim3d=(zm, zM), xlabel=\"Z\")\n",
    "\n",
    "    for i in range(trajectories.shape[0]):\n",
    "        color=np.array(colors[i]).reshape(1, -1)\n",
    "        ax.plot3D(\n",
    "            trajectories[i, 0, :frame_num],\n",
    "            trajectories[i, 1, :frame_num],\n",
    "            trajectories[i, 2, :frame_num],\n",
    "            c=color,\n",
    "        )\n",
    "        ax.scatter(\n",
    "            trajectories[i, 0, frame_num],\n",
    "            trajectories[i, 1, frame_num],\n",
    "            trajectories[i, 2, frame_num],\n",
    "            c=color,\n",
    "            marker='o',\n",
    "            s=marker_sizes[i]\n",
    "        )\n",
    "\n",
    "anim = FuncAnimation(fig, animate, frames=trajectories.shape[-1], interval=100, repeat=False)\n",
    "plt.show()"
   ]
  },
  {
   "cell_type": "code",
   "execution_count": null,
   "metadata": {},
   "outputs": [],
   "source": []
  },
  {
   "cell_type": "code",
   "execution_count": null,
   "metadata": {},
   "outputs": [],
   "source": []
  }
 ],
 "metadata": {
  "colab": {
   "provenance": []
  },
  "kernelspec": {
   "display_name": "Python 3 (ipykernel)",
   "language": "python",
   "name": "python3"
  },
  "language_info": {
   "codemirror_mode": {
    "name": "ipython",
    "version": 3
   },
   "file_extension": ".py",
   "mimetype": "text/x-python",
   "name": "python",
   "nbconvert_exporter": "python",
   "pygments_lexer": "ipython3",
   "version": "3.10.9"
  }
 },
 "nbformat": 4,
 "nbformat_minor": 4
}
