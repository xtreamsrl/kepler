{
 "cells": [
  {
   "cell_type": "markdown",
   "metadata": {},
   "source": [
    "# The N-body problem"
   ]
  },
  {
   "cell_type": "markdown",
   "metadata": {
    "collapsed": false,
    "jupyter": {
     "outputs_hidden": false
    }
   },
   "source": [
    "### Imports"
   ]
  },
  {
   "cell_type": "code",
   "execution_count": null,
   "metadata": {
    "ExecuteTime": {
     "end_time": "2023-10-13T10:21:01.874375Z",
     "start_time": "2023-10-13T10:21:01.589168Z"
    },
    "id": "4TOe62heLbhX"
   },
   "outputs": [],
   "source": [
    "# Magic function: enables interactive plot\n",
    "%matplotlib widget\n",
    "import numpy as np\n",
    "\n",
    "import matplotlib as mpl\n",
    "import matplotlib.pyplot as plt\n",
    "from matplotlib.animation import FuncAnimation\n"
   ]
  },
  {
   "cell_type": "markdown",
   "metadata": {
    "collapsed": false,
    "jupyter": {
     "outputs_hidden": false
    }
   },
   "source": [
    "### Initial conditions"
   ]
  },
  {
   "cell_type": "code",
   "execution_count": null,
   "metadata": {
    "ExecuteTime": {
     "end_time": "2023-10-13T10:21:01.878702Z",
     "start_time": "2023-10-13T10:21:01.877181Z"
    },
    "id": "0_Zs_Xo7KqMu"
   },
   "outputs": [],
   "source": [
    "# body mA initial conditions\n",
    "mA = 1e26  # mass (kg)\n",
    "rA0 = np.array([1E3, 0, 0])  # initial position (km)\n",
    "vA0 = np.array([10, -20, 10])  # initial velocity (km/s)\n",
    "\n",
    "# body mB initial conditions\n",
    "mB = 1e26  # mass (kg)\n",
    "rB0 = np.array([-1E3, 0, 0])  # initial position (km)\n",
    "vB0 = np.array([10, 40, 10])  # initial velocity (km/s)\n",
    "\n",
    "# body mC initial conditions\n",
    "mC = 1e26  # mass (kg)\n",
    "rC0 = np.array([0, 0, 0])  # initial position (km)\n",
    "vC0 = np.array([0, 20, 0])  # initial velocity (km/s)"
   ]
  },
  {
   "cell_type": "code",
   "execution_count": null,
   "metadata": {},
   "outputs": [],
   "source": [
    "y0 = np.stack([\n",
    "    np.stack([rA0, vA0]),\n",
    "    np.stack([rB0, vB0]),\n",
    "    np.stack([rC0, vC0])\n",
    "])"
   ]
  },
  {
   "cell_type": "code",
   "execution_count": null,
   "outputs": [],
   "source": [
    "masses = [mA, mB, mC]"
   ],
   "metadata": {
    "collapsed": false
   }
  },
  {
   "cell_type": "code",
   "execution_count": null,
   "metadata": {
    "collapsed": false,
    "jupyter": {
     "outputs_hidden": false
    }
   },
   "outputs": [],
   "source": [
    "y0.shape"
   ]
  },
  {
   "cell_type": "code",
   "execution_count": null,
   "metadata": {
    "ExecuteTime": {
     "end_time": "2023-10-13T10:21:01.880440Z",
     "start_time": "2023-10-13T10:21:01.879183Z"
    },
    "id": "ETzVyK15NdE0"
   },
   "outputs": [],
   "source": [
    "G = 6.67259e-20  # Gravitational constant (km**3/kg/s**2)"
   ]
  },
  {
   "cell_type": "markdown",
   "metadata": {
    "collapsed": false,
    "jupyter": {
     "outputs_hidden": false
    }
   },
   "source": [
    "### The derivatives\n"
   ]
  },
  {
   "cell_type": "code",
   "execution_count": null,
   "metadata": {
    "ExecuteTime": {
     "end_time": "2023-10-13T10:21:01.885074Z",
     "start_time": "2023-10-13T10:21:01.881390Z"
    },
    "id": "qyxCLqW_MQ-K"
   },
   "outputs": [],
   "source": [
    "def n_body_eqm_derivatives(_y, t, _G, masses):\n",
    "    \"\"\"\n",
    "    derivatives of the equations of motion describing the two-body system\n",
    "    t is unused, but we keep it for consistency with scipy requirement\n",
    "    \"\"\"\n",
    "    derivatives = []\n",
    "    for i in range(_y.shape[0]):\n",
    "        ri = _y[i, 0, :]\n",
    "        mi = masses[i]\n",
    "        vi = _y[i, 1, :]\n",
    "\n",
    "        # acceleration\n",
    "        ai = _G * mi * sum([\n",
    "            (_y[j, 0, :] - ri) / np.linalg.norm(_y[j, 0, :] - ri)**3\n",
    "        for j in {range(_y.shape[0])} - {i}\n",
    "        ])\n",
    "        derivatives.append(np.stack([vi, ai]))\n",
    "\n",
    "    derivatives = np.stack(derivatives)\n",
    "\n",
    "    return derivatives\n"
   ]
  },
  {
   "cell_type": "markdown",
   "metadata": {
    "collapsed": false,
    "jupyter": {
     "outputs_hidden": false
    }
   },
   "source": [
    "### Forward time evolution"
   ]
  },
  {
   "cell_type": "code",
   "execution_count": null,
   "metadata": {
    "collapsed": false,
    "jupyter": {
     "outputs_hidden": false
    }
   },
   "outputs": [],
   "source": [
    "dt = 0.001  # time step (s)\n",
    "tf = 1E2  # end of simulation (s)"
   ]
  },
  {
   "cell_type": "code",
   "execution_count": null,
   "metadata": {},
   "outputs": [],
   "source": [
    "def evolve(y0, tf, dt, method, params):\n",
    "    history = []\n",
    "    yn = y0\n",
    "    t_axis = np.arange(0, tf, dt)\n",
    "    for tn in t_axis:\n",
    "        yn = evolve_one_step(yn, tn, dt, method, params)\n",
    "        history.append(yn.copy())\n",
    "\n",
    "    history = np.stack(history, axis=-1)\n",
    "    return history"
   ]
  },
  {
   "cell_type": "markdown",
   "metadata": {
    "collapsed": false,
    "jupyter": {
     "outputs_hidden": false
    }
   },
   "source": [
    "### Euler's method"
   ]
  },
  {
   "cell_type": "code",
   "execution_count": null,
   "metadata": {},
   "outputs": [],
   "source": [
    "def evolve_one_step(yn, tn, dt, method, params):\n",
    "    if method == \"euler\":\n",
    "        f = n_body_eqm_derivatives(yn, tn, *params)\n",
    "        yn += f * dt\n",
    "    elif method == \"rk4\":\n",
    "        f1 = n_body_eqm_derivatives(yn, tn, *params)\n",
    "        f2 = n_body_eqm_derivatives(yn + f1 * dt / 2, tn + dt / 2, *params)\n",
    "        f3 = n_body_eqm_derivatives(yn + f2 * dt / 2, tn + dt / 2, *params)\n",
    "        f4 = n_body_eqm_derivatives(yn + f3 * dt, tn + dt, *params)\n",
    "        yn += (f1 + 2 * f2 + 2 * f3 + f4) * dt / 6\n",
    "\n",
    "    return yn"
   ]
  },
  {
   "cell_type": "markdown",
   "metadata": {
    "collapsed": false,
    "jupyter": {
     "outputs_hidden": false
    }
   },
   "source": [
    "### Running the simulation"
   ]
  },
  {
   "cell_type": "code",
   "execution_count": null,
   "metadata": {
    "ExecuteTime": {
     "end_time": "2023-10-13T10:21:01.894511Z",
     "start_time": "2023-10-13T10:21:01.892533Z"
    }
   },
   "outputs": [],
   "source": [
    "history = evolve(y0, tf, dt, \"euler\", params=(G, masses))"
   ]
  },
  {
   "cell_type": "code",
   "execution_count": null,
   "metadata": {
    "ExecuteTime": {
     "end_time": "2023-10-13T10:21:02.125912Z",
     "start_time": "2023-10-13T10:21:01.896710Z"
    },
    "id": "jwO-Wn23O-Mv"
   },
   "outputs": [],
   "source": [
    "# if we want to compare with odeint from scipy\n",
    "#from scipy.integrate import odeint\n",
    "#history = odeint(n_body_eqm_derivatives, y0, np.arange(0, tf, dt), args=(G, masses))"
   ]
  },
  {
   "cell_type": "code",
   "execution_count": null,
   "metadata": {},
   "outputs": [],
   "source": [
    "history.shape"
   ]
  },
  {
   "cell_type": "markdown",
   "metadata": {
    "collapsed": false,
    "jupyter": {
     "outputs_hidden": false
    }
   },
   "source": [
    "### Plotting the outcomes"
   ]
  },
  {
   "cell_type": "code",
   "execution_count": null,
   "metadata": {
    "ExecuteTime": {
     "end_time": "2023-10-13T10:21:02.129206Z",
     "start_time": "2023-10-13T10:21:02.127094Z"
    }
   },
   "outputs": [],
   "source": [
    "# Trajectories\n",
    "trajectories = history[:, 0, :, :]\n",
    "trajectories.shape"
   ]
  },
  {
   "cell_type": "code",
   "execution_count": null,
   "metadata": {
    "ExecuteTime": {
     "end_time": "2023-10-13T10:21:02.700836Z",
     "start_time": "2023-10-13T10:21:02.698149Z"
    },
    "colab": {
     "base_uri": "https://localhost:8080/",
     "height": 17
    },
    "id": "4FvxgpwFTvYH",
    "outputId": "ef313a28-99bd-4cc1-aca8-4692a66d43ff"
   },
   "outputs": [],
   "source": [
    "plt.style.use('dark_background')\n",
    "\n",
    "fig = plt.figure()\n",
    "ax = plt.axes(projection='3d')\n",
    "colors = mpl.colormaps[\"Set3\"]\n",
    "\n",
    "def animate(frame_num):\n",
    "    ax.clear()\n",
    "    for i in range(trajectories.shape[0]):\n",
    "        trajectory_i = trajectories[i, :, :]\n",
    "        traj_x_i = trajectory_i[0, :]\n",
    "        traj_y_i = trajectory_i[1, :]\n",
    "        traj_z_i = trajectory_i[2, :]\n",
    "\n",
    "        ax.plot3D(traj_x_i[:frame_num], traj_y_i[:frame_num], traj_z_i[:frame_num], c=colors[i])\n",
    "        ax.scatter(traj_x_i[frame_num], traj_y_i[frame_num], traj_z_i[frame_num], c=colors[i], marker='o')\n",
    "\n",
    "    for j, dim_label in enumerate([\"X\", \"Y\", \"Z\"]):\n",
    "        dim_values = trajectories[:, j, :]\n",
    "        min_value = np.min(dim_values)\n",
    "        max_value = np.max(dim_values)\n",
    "        ax.set(xlim3d=(min_value, max_value), xlabel=dim_label)\n",
    "\n",
    "\n",
    "\n",
    "anim = FuncAnimation(fig, animate, frames=history.shape[-1], interval=10, repeat=False)\n",
    "plt.show()"
   ]
  },
  {
   "cell_type": "code",
   "execution_count": null,
   "metadata": {},
   "outputs": [],
   "source": []
  },
  {
   "cell_type": "code",
   "execution_count": null,
   "metadata": {},
   "outputs": [],
   "source": []
  }
 ],
 "metadata": {
  "colab": {
   "provenance": []
  },
  "kernelspec": {
   "display_name": "Python 3 (ipykernel)",
   "language": "python",
   "name": "python3"
  },
  "language_info": {
   "codemirror_mode": {
    "name": "ipython",
    "version": 3
   },
   "file_extension": ".py",
   "mimetype": "text/x-python",
   "name": "python",
   "nbconvert_exporter": "python",
   "pygments_lexer": "ipython3",
   "version": "3.9.6"
  }
 },
 "nbformat": 4,
 "nbformat_minor": 4
}
