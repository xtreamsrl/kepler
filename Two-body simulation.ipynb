{
 "cells": [
  {
   "cell_type": "markdown",
   "metadata": {},
   "source": [
    "# The two-body problem: a gravitational system and its numerical solution"
   ]
  },
  {
   "cell_type": "markdown",
   "metadata": {},
   "source": [
    "https://levelup.gitconnected.com/the-two-body-problem-in-python-6bbe4a0b2f88"
   ]
  },
  {
   "cell_type": "markdown",
   "metadata": {
    "jp-MarkdownHeadingCollapsed": true
   },
   "source": [
    "## The problem"
   ]
  },
  {
   "cell_type": "markdown",
   "metadata": {},
   "source": [
    "In this notebook we will assess the two-body problem, consisting in two massive objects interacting via gravitational forces.\n",
    "\n",
    "We want to know their kinematics, i.e. their trajectories and their velocities, as they travel together in space."
   ]
  },
  {
   "cell_type": "markdown",
   "metadata": {},
   "source": [
    "### From Newton to Newton"
   ]
  },
  {
   "cell_type": "markdown",
   "metadata": {},
   "source": [
    "If $A$ and $B$ are our objects (which we can of course think of as planets), we know that the gravitational force they exert on one another is, according to [Newton](https://en.wikipedia.org/wiki/Newton%27s_law_of_universal_gravitation),\n",
    "\n",
    "$$\n",
    "F_G = G \\frac{m_Am_B}{r^2}\n",
    "$$\n",
    "\n",
    "where $r$ is the distance that sets them apart, i.e. $r = |\\vec{r}_B - \\vec{r}_A|$.\n",
    "\n",
    "The quantity above is just a number, but like all other forces we should actually express it in **vector form**: we then have two opposite forces acting respectively on $A$ and $B$,\n",
    "\n",
    "$$\n",
    "\\vec{F}^G_A = G \\frac{m_Am_B}{|\\vec{r}_B - \\vec{r}_A|^2} \\vec{u}_{BA}\n",
    "$$\n",
    "and\n",
    "$$\n",
    "\\vec{F}^G_B = G \\frac{m_Am_B}{|\\vec{r}_B - \\vec{r}_A|^2} \\vec{u}_{AB},\n",
    "$$\n",
    "\n",
    "with $\\vec{u}_{BA}$ the unit-length vector directed from $B$ to $A$, which can be written as\n",
    "$$\n",
    "\\vec{u}_{BA} = \\frac{\\vec{r}_B - \\vec{r}_A}{|\\vec{r}_B - \\vec{r}_A|}.\n",
    "$$\n",
    "In light of the above, $\\vec{u}_{AB} = - \\vec{u}_{BA}$ so that $\\vec{F}^G_B = - \\vec{F}^G_A$.\n",
    "\n",
    "\n",
    "Sir Isaac also tells us, in its [second law of motion](https://en.wikipedia.org/wiki/Newton%27s_laws_of_motion#Second_law), that the vector sum of all the forces acting on a rigid body gives\n",
    "\n",
    "$$\n",
    "\\vec{F} = m\\vec{a};\n",
    "$$\n",
    "\n",
    "if we then assume our two bodies to freely travel in space, only being subjected to their reciprocal gravitational pull (which implies $\\vec{F} = \\vec{F_G}$), we can conclude\n",
    "$$\n",
    "G \\frac{m_Am_B}{|\\vec{r}_B - \\vec{r}_A|^3} (\\vec{r}_B - \\vec{r}_A) = m\\vec{a}_A\n",
    "$$\n",
    "and \n",
    "$$\n",
    "G \\frac{m_Am_B}{|\\vec{r}_B - \\vec{r}_A|^3} (\\vec{r}_A - \\vec{r}_B) = m\\vec{a}_B.\n",
    "$$"
   ]
  },
  {
   "cell_type": "markdown",
   "metadata": {},
   "source": [
    "## Diff eqs 101"
   ]
  },
  {
   "cell_type": "markdown",
   "metadata": {},
   "source": [
    "The idea is to solve the two equations above to get an expression for $\\vec{r}_{A}$ and $\\vec{r}_{B}$.\n",
    "\n",
    "This problem is an example of **differential equation**, where:\n",
    "- the variables to solve for are functions (the $\\vec{r}_{A/B}(t)$ are functions of time, which we ignored so far)\n",
    "- that same functions occur in the equation as themselves or as one of its derivatives.\n",
    "\n",
    "We remember from our Physics 1 class that the acceleration is, in fact, a derivative of the position:\n",
    "$$\n",
    "\\vec{a} = \\frac{\\partial \\vec{v}}{\\partial t} = \\frac{\\partial^2 \\vec{r}}{\\partial t^2},\n",
    "$$\n",
    "and we may want to use the *dot notation* loved by physicists all around, where the time derivative is expressed with a dot over the function: $\\frac{\\partial \\vec{f}}{\\partial t} = \\dot{f}$.\n",
    "\n",
    "We can do this without causing any confusion because our functions have only one variable (time), or in other words they are **ordinary differential equations** (ODEs).\n",
    "\n",
    "To conclude, our final system is\n",
    "$$\n",
    "    \\begin{cases}\n",
    "        G \\frac{m_Am_B}{|\\vec{r}_B - \\vec{r}_A|^3} (\\vec{r}_B - \\vec{r}_A) = m\\ddot{\\vec{r}}_A \\quad & \\text{for body $A$}, \\\\\n",
    "        \\\\\n",
    "        G \\frac{m_Am_B}{|\\vec{r}_B - \\vec{r}_A|^3} (\\vec{r}_A - \\vec{r}_B) = m\\ddot{\\vec{r}}_B \\quad & \\text{for body $B$}.\n",
    "    \\end{cases}   \n",
    "$$\n",
    "\n",
    "These are 6 scalar (one-dimensional) equations, since they can be separated in their $x$, $y$ and $z$ components."
   ]
  },
  {
   "cell_type": "markdown",
   "metadata": {},
   "source": [
    "A system of ODEs like ours is usually stated as a **Cauchy's problem**: if we have derivatives of our variables up to the nth order, Cauchy requires us to specify initial values (for $t=0$) for all except the last, nth order:\n",
    "$$\n",
    "\\vec{r}_A(0), \\quad \\vec{r}_B(0), \\quad \\dot{\\vec{r}}_A, \\quad \\dot{\\vec{r}}_B.\n",
    "$$\n",
    "\n",
    "Cauchy didn't require this on a whim: it is actually necessary in order to obtain unique solutions for the system of equations (can you think why?)."
   ]
  },
  {
   "cell_type": "markdown",
   "metadata": {},
   "source": [
    "### A common trick\n",
    "\n",
    "We have to take one last step before solving the problem at hand: **lowering the order of the system**, that is the highest order of derivatives inside the equations.\n",
    "\n",
    "Let's rewrite the system by reintroducing the velocities as derivatives of the position:\n",
    "\n",
    "$$\n",
    "    \\begin{cases}\n",
    "        G \\frac{m_Am_B}{|\\vec{r}_B - \\vec{r}_A|^3} (\\vec{r}_B - \\vec{r}_A) = m\\dot{\\vec{v}}_A \\quad & \\text{for body $A$}, \\\\\n",
    "        \\\\\n",
    "        G \\frac{m_Am_B}{|\\vec{r}_B - \\vec{r}_A|^3} (\\vec{r}_A - \\vec{r}_B) = m\\dot{\\vec{v}}_B \\quad & \\text{for body $B$}.\n",
    "    \\end{cases}   \n",
    "$$\n",
    "\n",
    "Surely this expression is equivalent to before, since $v = \\dot{r}$; what we need to do, then, is just carry this information with us in the system by appending \n",
    "$$\n",
    "    \\begin{cases}\n",
    "        \\vec{v}_A = \\dot{\\vec{r}}_A \\quad & \\text{for body $A$}, \\\\\n",
    "        \\\\\n",
    "        \\vec{v}_B = \\dot{\\vec{r}}_B \\quad & \\text{for body $B$}.\n",
    "    \\end{cases}   \n",
    "$$\n",
    "\n",
    "Nothing really changed in terms of information, since we can always substitute back the last two equations in the first two and get to the original problem, but for computational reasons this trick will reveal itself to be very useful.\n",
    "\n",
    "In conclusion, our problem ends up becoming a system of ((2 + 2) * 3 = ) **12 first-order ODEs**, and 12 initial conditions to be specified."
   ]
  },
  {
   "cell_type": "markdown",
   "metadata": {},
   "source": [
    "### Numerical solving with Euler\n",
    "\n",
    "While many ODEs can be solved analytically, we are interested in a numerical approximate method that could solve, in principle, any system defined as a Cauchy Problem.\n",
    "\n",
    "The simple but surprisingly effective [Euler method](https://en.wikipedia.org/wiki/Euler_method#) for first-order differential equations (that's why we performed the trick) works as follows:\n",
    "\n"
   ]
  },
  {
   "cell_type": "markdown",
   "metadata": {},
   "source": [
    "## Let's code!"
   ]
  },
  {
   "cell_type": "markdown",
   "metadata": {
    "collapsed": false,
    "jupyter": {
     "outputs_hidden": false
    }
   },
   "source": [
    "### Imports\n",
    "\n",
    "At the beginning of each notebook, we place the **imports** of the libraries we intend to use.\n",
    "\n",
    "In our case, we will use `numpy` for handling numbers and vectors, and both `plotly` and `matplotlib` for plots."
   ]
  },
  {
   "cell_type": "code",
   "execution_count": null,
   "metadata": {
    "ExecuteTime": {
     "end_time": "2023-10-13T10:21:01.874375Z",
     "start_time": "2023-10-13T10:21:01.589168Z"
    },
    "id": "4TOe62heLbhX"
   },
   "outputs": [],
   "source": [
    "# Magic function: enables interactive plot\n",
    "%matplotlib widget\n",
    "import numpy as np\n",
    "\n",
    "import matplotlib.pyplot as plt\n",
    "from matplotlib.animation import FuncAnimation\n",
    "import plotly.express as px\n"
   ]
  },
  {
   "cell_type": "markdown",
   "metadata": {
    "collapsed": false,
    "jupyter": {
     "outputs_hidden": false
    }
   },
   "source": [
    "### Initial conditions\n",
    "\n",
    "Let's start with setting the kinematic initial conditions of our two bodies $A$ and $B$, namely their positions $r_A(0), r_B(0)$ and their velocities $v_A(0), v_B(0)$.\n",
    "\n",
    "We use 3d arrays to denote the $x$, $y$ and $z$ dimensions respectively."
   ]
  },
  {
   "cell_type": "code",
   "execution_count": null,
   "metadata": {
    "ExecuteTime": {
     "end_time": "2023-10-13T10:21:01.878702Z",
     "start_time": "2023-10-13T10:21:01.877181Z"
    },
    "id": "0_Zs_Xo7KqMu"
   },
   "outputs": [],
   "source": [
    "# body mA initial conditions\n",
    "mA = 1e26  # mass (kg)\n",
    "rA0 = np.array([1E3, 0, 0])  # initial position (km)\n",
    "vA0 = np.array([10, -20, 10])  # initial velocity (km/s)\n",
    "\n",
    "# body mB initial conditions\n",
    "mB = 1e26  # mass (kg)\n",
    "rB0 = np.array([-1E3, 0, 0])  # initial position (km)\n",
    "vB0 = np.array([10, 40, 10])  # initial velocity (km/s)"
   ]
  },
  {
   "cell_type": "markdown",
   "metadata": {
    "collapsed": false,
    "jupyter": {
     "outputs_hidden": false
    }
   },
   "source": [
    "We want to store this information in a more compact and useful way: we define a *state vector* $y(0)$ containing all initial conditions.\n",
    "\n",
    "We structure it as a 3d tensor or *array*, in computer science terms, so that each dimension encodes independent information.\n",
    "\n",
    "To do so we use `numpy.stack`, which stacks arrays on top of one another thus creating new dimensions."
   ]
  },
  {
   "cell_type": "code",
   "execution_count": null,
   "metadata": {},
   "outputs": [],
   "source": [
    "y0 = np.stack([np.stack([rA0, vA0]), np.stack([rB0, vB0])])"
   ]
  },
  {
   "cell_type": "markdown",
   "metadata": {
    "collapsed": false,
    "jupyter": {
     "outputs_hidden": false
    }
   },
   "source": [
    "If we inspect the shape of $y(0)$ we can see that it has indeed 3 dimensions:\n",
    "- the first can have two values, selecting body $A$ or $B$;\n",
    "- the second can have two values as well and chooses the kinematic variable, either the position $r$ or the velocity $v$;\n",
    "- the third can have three values, corresponding to the three dimensions $x$, $y$, and $z$."
   ]
  },
  {
   "cell_type": "code",
   "execution_count": null,
   "metadata": {
    "collapsed": false,
    "jupyter": {
     "outputs_hidden": false
    }
   },
   "outputs": [],
   "source": [
    "y0.shape"
   ]
  },
  {
   "cell_type": "markdown",
   "metadata": {
    "collapsed": false,
    "jupyter": {
     "outputs_hidden": false
    }
   },
   "source": [
    "We can play with indices and see what comes out of our tensor; a single element is retrieved by passing all three coordinates needed to identify it, while *slices* or projections are obtained by using a `:` in place of one or more of the coordinates.\n",
    "\n",
    "Here is $v_A^y(0)$:"
   ]
  },
  {
   "cell_type": "code",
   "execution_count": null,
   "metadata": {},
   "outputs": [],
   "source": [
    "# body=A, variable=v, dimension=y\n",
    "y0[0, 1, 1]"
   ]
  },
  {
   "cell_type": "markdown",
   "metadata": {
    "collapsed": false,
    "jupyter": {
     "outputs_hidden": false
    }
   },
   "source": [
    "And here is $r_B(0)$:"
   ]
  },
  {
   "cell_type": "code",
   "execution_count": null,
   "metadata": {
    "ExecuteTime": {
     "end_time": "2023-11-07T11:37:57.920088Z",
     "start_time": "2023-11-07T11:37:57.708300Z"
    },
    "collapsed": false,
    "jupyter": {
     "outputs_hidden": false
    }
   },
   "outputs": [],
   "source": [
    "# body=B, variable=r, all dimensions\n",
    "y0[1, 0, :]"
   ]
  },
  {
   "cell_type": "markdown",
   "metadata": {
    "collapsed": false,
    "jupyter": {
     "outputs_hidden": false
    }
   },
   "source": [
    "Finally, let's set the value of $G$, the gravitational constant:"
   ]
  },
  {
   "cell_type": "code",
   "execution_count": null,
   "metadata": {
    "ExecuteTime": {
     "end_time": "2023-10-13T10:21:01.880440Z",
     "start_time": "2023-10-13T10:21:01.879183Z"
    },
    "id": "ETzVyK15NdE0"
   },
   "outputs": [],
   "source": [
    "G = 6.67259e-20  # Gravitational constant (km**3/kg/s**2)"
   ]
  },
  {
   "cell_type": "markdown",
   "metadata": {
    "collapsed": false,
    "jupyter": {
     "outputs_hidden": false
    }
   },
   "source": [
    "### The derivatives\n"
   ]
  },
  {
   "cell_type": "code",
   "execution_count": null,
   "metadata": {
    "ExecuteTime": {
     "end_time": "2023-10-13T10:21:01.885074Z",
     "start_time": "2023-10-13T10:21:01.881390Z"
    },
    "id": "qyxCLqW_MQ-K"
   },
   "outputs": [],
   "source": [
    "def two_body_eqm_derivatives(_y, t, _G, _mA, _mB):\n",
    "    \"\"\"\n",
    "    derivatives of the equations of motion describing the two-body system\n",
    "    t is unused, but we keep it for consistency with scipy requirement\n",
    "    \"\"\"\n",
    "    rA = _y[0, 0, :]\n",
    "    rB = _y[1, 0, :]\n",
    "\n",
    "    vA = _y[0, 1, :]\n",
    "    vB = _y[1, 1, :]\n",
    "\n",
    "    # magnitude of position vector from rA to rB\n",
    "    distance = np.linalg.norm(rB - rA)\n",
    "\n",
    "    # accelerations\n",
    "    aA = _G * _mA * ((rB - rA) / np.power(distance, 3))\n",
    "    aB = _G * _mB * ((rA - rB) / np.power(distance, 3))\n",
    "\n",
    "    derivatives = np.stack([np.stack([vA, aA]), np.stack([vB, aB])])\n",
    "\n",
    "    return derivatives\n"
   ]
  },
  {
   "cell_type": "markdown",
   "metadata": {
    "collapsed": false,
    "jupyter": {
     "outputs_hidden": false
    }
   },
   "source": [
    "### Forward time evolution"
   ]
  },
  {
   "cell_type": "code",
   "execution_count": null,
   "metadata": {
    "collapsed": false,
    "jupyter": {
     "outputs_hidden": false
    }
   },
   "outputs": [],
   "source": [
    "dt = 0.001  # time step (s)\n",
    "tf = 1E2  # end of simulation (s)"
   ]
  },
  {
   "cell_type": "code",
   "execution_count": null,
   "metadata": {},
   "outputs": [],
   "source": [
    "def evolve(y0, tf, dt, method, params):\n",
    "    history = []\n",
    "    yn = y0\n",
    "    t_axis = np.arange(0, tf, dt)\n",
    "    for tn in t_axis:\n",
    "        yn = evolve_one_step(yn, tn, dt, method, params)\n",
    "        history.append(yn.copy())\n",
    "\n",
    "    history = np.stack(history, axis=-1)\n",
    "    return history"
   ]
  },
  {
   "cell_type": "markdown",
   "metadata": {
    "collapsed": false,
    "jupyter": {
     "outputs_hidden": false
    }
   },
   "source": [
    "### Euler's method"
   ]
  },
  {
   "cell_type": "code",
   "execution_count": null,
   "metadata": {},
   "outputs": [],
   "source": [
    "def evolve_one_step(yn, tn, dt, method, params):\n",
    "    if method == \"euler\":\n",
    "        f = two_body_eqm_derivatives(yn, tn, *params)\n",
    "        yn += f * dt\n",
    "    elif method == \"rk4\":\n",
    "        f1 = two_body_eqm_derivatives(yn, tn, *params)\n",
    "        f2 = two_body_eqm_derivatives(yn + f1 * dt / 2, tn + dt / 2, *params)\n",
    "        f3 = two_body_eqm_derivatives(yn + f2 * dt / 2, tn + dt / 2, *params)\n",
    "        f4 = two_body_eqm_derivatives(yn + f3 * dt, tn + dt, *params)\n",
    "        yn += (f1 + 2 * f2 + 2 * f3 + f4) * dt / 6\n",
    "\n",
    "    return yn"
   ]
  },
  {
   "cell_type": "markdown",
   "metadata": {
    "collapsed": false,
    "jupyter": {
     "outputs_hidden": false
    }
   },
   "source": [
    "### Running the simulation\n",
    "\n",
    "Finally, let's run the main `evolve` function:"
   ]
  },
  {
   "cell_type": "code",
   "execution_count": null,
   "metadata": {
    "ExecuteTime": {
     "end_time": "2023-10-13T10:21:01.894511Z",
     "start_time": "2023-10-13T10:21:01.892533Z"
    }
   },
   "outputs": [],
   "source": [
    "history = evolve(y0, tf, dt, \"euler\", params=(G, mA, mB))"
   ]
  },
  {
   "cell_type": "code",
   "execution_count": null,
   "metadata": {
    "ExecuteTime": {
     "end_time": "2023-10-13T10:21:02.125912Z",
     "start_time": "2023-10-13T10:21:01.896710Z"
    },
    "id": "jwO-Wn23O-Mv"
   },
   "outputs": [],
   "source": [
    "# if we want to compare with odeint from scipy\n",
    "#from scipy.integrate import odeint\n",
    "#history = odeint(two_body_eqm_derivatives, y0, np.arange(0, tf, dt), args=(G, mA, mB))"
   ]
  },
  {
   "cell_type": "markdown",
   "metadata": {
    "collapsed": false,
    "jupyter": {
     "outputs_hidden": false
    }
   },
   "source": [
    "As we can see, the `history` output looks like the initial state vector $y(0)$ but now it has an additional axis storing time information: it is, indeed, the whole sequence of $y(t)$ for $t=0, \\dots, t_f$."
   ]
  },
  {
   "cell_type": "code",
   "execution_count": null,
   "metadata": {},
   "outputs": [],
   "source": [
    "history.shape"
   ]
  },
  {
   "cell_type": "markdown",
   "metadata": {
    "collapsed": false,
    "jupyter": {
     "outputs_hidden": false
    }
   },
   "source": [
    "### Plotting the outcomes\n",
    "\n",
    "First let's extract the trajectories of both bodies from `history`, by remembering how indexing is done on multi-dimensional `numpy` arrays:"
   ]
  },
  {
   "cell_type": "code",
   "execution_count": null,
   "metadata": {
    "ExecuteTime": {
     "end_time": "2023-10-13T10:21:02.129206Z",
     "start_time": "2023-10-13T10:21:02.127094Z"
    }
   },
   "outputs": [],
   "source": [
    "# Trajectories\n",
    "xA = history[0, 0, 0, :]\n",
    "yA = history[0, 0, 1, :]\n",
    "zA = history[0, 0, 2, :]\n",
    "\n",
    "xB = history[1, 0, 0, :]\n",
    "yB = history[1, 0, 1, :]\n",
    "zB = history[1, 0, 2, :]"
   ]
  },
  {
   "cell_type": "markdown",
   "metadata": {
    "collapsed": false,
    "jupyter": {
     "outputs_hidden": false
    }
   },
   "source": [
    "For example, we can plot a single position coordinate against time."
   ]
  },
  {
   "cell_type": "code",
   "execution_count": null,
   "metadata": {
    "ExecuteTime": {
     "end_time": "2023-10-13T10:21:02.541313Z",
     "start_time": "2023-10-13T10:21:02.129750Z"
    }
   },
   "outputs": [],
   "source": [
    "px.line(xA)"
   ]
  },
  {
   "cell_type": "markdown",
   "metadata": {
    "collapsed": false,
    "jupyter": {
     "outputs_hidden": false
    }
   },
   "source": [
    "But we can do better: thanks to the `FuncAnimation` object from `matplotlib` we can display an animated 3d plot, where our two bodies can be seen dancing with one another."
   ]
  },
  {
   "cell_type": "code",
   "execution_count": null,
   "metadata": {
    "ExecuteTime": {
     "end_time": "2023-10-13T10:21:02.700836Z",
     "start_time": "2023-10-13T10:21:02.698149Z"
    },
    "colab": {
     "base_uri": "https://localhost:8080/",
     "height": 17
    },
    "id": "4FvxgpwFTvYH",
    "outputId": "ef313a28-99bd-4cc1-aca8-4692a66d43ff"
   },
   "outputs": [],
   "source": [
    "plt.style.use('dark_background')\n",
    "\n",
    "fig = plt.figure()\n",
    "ax = plt.axes(projection='3d')\n",
    "\n",
    "\n",
    "def animate(frame_num):\n",
    "    ax.clear()\n",
    "    ax.plot3D(xA[:frame_num], yA[:frame_num], zA[:frame_num], c='blue')\n",
    "    ax.scatter(xA[frame_num], yA[frame_num], zA[frame_num], c='blue', marker='o')\n",
    "\n",
    "    ax.plot3D(xB[:frame_num], yB[:frame_num], zB[:frame_num], c='orange')\n",
    "    ax.scatter(xB[frame_num], yB[frame_num], zB[frame_num], c='orange', marker='o')\n",
    "\n",
    "    xm = np.min(np.concatenate([xA, xB]))\n",
    "    xM = np.max(np.concatenate([xA, xB]))\n",
    "    ym = np.min(np.concatenate([yA, yB]))\n",
    "    yM = np.max(np.concatenate([yA, yB]))\n",
    "    zm = np.min(np.concatenate([zA, zB]))\n",
    "    zM = np.max(np.concatenate([zA, zB]))\n",
    "\n",
    "    ax.set(xlim3d=(xm, xM), xlabel='X')\n",
    "    ax.set(ylim3d=(ym, yM), ylabel='Y')\n",
    "    ax.set(zlim3d=(zm, zM), zlabel='Z')\n",
    "\n",
    "\n",
    "anim = FuncAnimation(fig, animate, frames=len(xA), interval=10, repeat=False)\n",
    "plt.show()"
   ]
  },
  {
   "cell_type": "code",
   "execution_count": null,
   "metadata": {},
   "outputs": [],
   "source": []
  },
  {
   "cell_type": "code",
   "execution_count": null,
   "metadata": {},
   "outputs": [],
   "source": []
  }
 ],
 "metadata": {
  "colab": {
   "provenance": []
  },
  "kernelspec": {
   "display_name": "Python 3 (ipykernel)",
   "language": "python",
   "name": "python3"
  },
  "language_info": {
   "codemirror_mode": {
    "name": "ipython",
    "version": 3
   },
   "file_extension": ".py",
   "mimetype": "text/x-python",
   "name": "python",
   "nbconvert_exporter": "python",
   "pygments_lexer": "ipython3",
   "version": "3.9.6"
  }
 },
 "nbformat": 4,
 "nbformat_minor": 4
}
