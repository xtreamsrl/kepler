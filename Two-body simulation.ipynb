{
 "cells": [
  {
   "cell_type": "markdown",
   "metadata": {},
   "source": [
    "https://levelup.gitconnected.com/the-two-body-problem-in-python-6bbe4a0b2f88"
   ]
  },
  {
   "cell_type": "markdown",
   "metadata": {
    "collapsed": false,
    "jupyter": {
     "outputs_hidden": false
    }
   },
   "source": [
    "### Imports\n",
    "\n",
    "At the beginning of each notebook, we place the **imports** of the libraries we intend to use.\n",
    "\n",
    "In our case, we will use `numpy` for handling numbers and vectors, and both `plotly` and `matplotlib` for plots."
   ]
  },
  {
   "cell_type": "code",
   "execution_count": null,
   "metadata": {
    "ExecuteTime": {
     "end_time": "2023-10-13T10:21:01.874375Z",
     "start_time": "2023-10-13T10:21:01.589168Z"
    },
    "id": "4TOe62heLbhX"
   },
   "outputs": [],
   "source": [
    "# Magic function: enables interactive plot\n",
    "%matplotlib widget\n",
    "import numpy as np\n",
    "\n",
    "import matplotlib.pyplot as plt\n",
    "from matplotlib.animation import FuncAnimation\n",
    "import plotly.express as px\n"
   ]
  },
  {
   "cell_type": "markdown",
   "metadata": {
    "collapsed": false,
    "jupyter": {
     "outputs_hidden": false
    }
   },
   "source": [
    "### Initial conditions\n",
    "\n",
    "Let's start with setting the kinematic initial conditions of our two bodies $A$ and $B$, namely their positions $r^A(0), r^B(0)$ and their velocities $v^A(0), v^B(0)$.\n",
    "\n",
    "We use 3d arrays to denote the $x$, $y$ and $z$ dimensions respectively."
   ]
  },
  {
   "cell_type": "code",
   "execution_count": null,
   "metadata": {
    "ExecuteTime": {
     "end_time": "2023-10-13T10:21:01.878702Z",
     "start_time": "2023-10-13T10:21:01.877181Z"
    },
    "id": "0_Zs_Xo7KqMu"
   },
   "outputs": [],
   "source": [
    "# body mA initial conditions\n",
    "mA = 1e26  # mass (kg)\n",
    "rA0 = np.array([1E3, 0, 0])  # initial position (km)\n",
    "vA0 = np.array([10, -20, 10])  # initial velocity (km/s)\n",
    "\n",
    "# body mB initial conditions\n",
    "mB = 1e26  # mass (kg)\n",
    "rB0 = np.array([-1E3, 0, 0])  # initial position (km)\n",
    "vB0 = np.array([10, 40, 10])  # initial velocity (km/s)"
   ]
  },
  {
   "cell_type": "markdown",
   "metadata": {
    "collapsed": false,
    "jupyter": {
     "outputs_hidden": false
    }
   },
   "source": [
    "We want to store this information in a more compact and useful way: we define a *state vector* $y(0)$ containing all initial conditions.\n",
    "\n",
    "We structure it as a 3d tensor or *array*, in computer science terms, so that each dimension encodes independent information.\n",
    "\n",
    "To do so we use `numpy.stack`, which stacks arrays on top of one another thus creating new dimensions."
   ]
  },
  {
   "cell_type": "code",
   "execution_count": null,
   "metadata": {},
   "outputs": [],
   "source": [
    "y0 = np.stack([np.stack([rA0, vA0]), np.stack([rB0, vB0])])"
   ]
  },
  {
   "cell_type": "markdown",
   "metadata": {
    "collapsed": false,
    "jupyter": {
     "outputs_hidden": false
    }
   },
   "source": [
    "If we inspect the shape of $y_0$ we can see that it has indeed 3 dimensions:\n",
    "- the first can have two values, selecting body $A$ or $B$;\n",
    "- the second can have two values as well and chooses the kinematic variable, either the position $r$ or the velocity $v$;\n",
    "- the third can have three values, corresponding to the three dimensions $x$, $y$, and $z$."
   ]
  },
  {
   "cell_type": "code",
   "execution_count": null,
   "metadata": {
    "collapsed": false,
    "jupyter": {
     "outputs_hidden": false
    }
   },
   "outputs": [],
   "source": [
    "y0.shape"
   ]
  },
  {
   "cell_type": "markdown",
   "metadata": {
    "collapsed": false,
    "jupyter": {
     "outputs_hidden": false
    }
   },
   "source": [
    "We can play with indices and see what comes out of our tensor; a single element is retrieved by passing all three coordinates needed to identify it, while *slices* or projections are obtained by using a `:` in place of one or more of the coordinates.\n",
    "\n",
    "Here is $v_y^A(0)$:"
   ]
  },
  {
   "cell_type": "code",
   "execution_count": null,
   "metadata": {},
   "outputs": [],
   "source": [
    "# body=A, variable=v, dimension=y\n",
    "y0[0, 1, 1]"
   ]
  },
  {
   "cell_type": "markdown",
   "metadata": {
    "collapsed": false,
    "jupyter": {
     "outputs_hidden": false
    }
   },
   "source": [
    "And here is $r^B(0)$:"
   ]
  },
  {
   "cell_type": "code",
   "execution_count": null,
   "metadata": {
    "ExecuteTime": {
     "end_time": "2023-11-07T11:37:57.920088Z",
     "start_time": "2023-11-07T11:37:57.708300Z"
    },
    "collapsed": false,
    "jupyter": {
     "outputs_hidden": false
    }
   },
   "outputs": [],
   "source": [
    "# body=B, variable=r, all dimensions\n",
    "y0[1, 0, :]"
   ]
  },
  {
   "cell_type": "markdown",
   "metadata": {
    "collapsed": false,
    "jupyter": {
     "outputs_hidden": false
    }
   },
   "source": [
    "Finally, let's set the value of $G$, the gravitational constant:"
   ]
  },
  {
   "cell_type": "code",
   "execution_count": null,
   "metadata": {
    "ExecuteTime": {
     "end_time": "2023-10-13T10:21:01.880440Z",
     "start_time": "2023-10-13T10:21:01.879183Z"
    },
    "id": "ETzVyK15NdE0"
   },
   "outputs": [],
   "source": [
    "G = 6.67259e-20  # Gravitational constant (km**3/kg/s**2)"
   ]
  },
  {
   "cell_type": "markdown",
   "metadata": {
    "collapsed": false,
    "jupyter": {
     "outputs_hidden": false
    }
   },
   "source": [
    "### The two-body equations of motion\n"
   ]
  },
  {
   "cell_type": "code",
   "execution_count": null,
   "metadata": {
    "ExecuteTime": {
     "end_time": "2023-10-13T10:21:01.885074Z",
     "start_time": "2023-10-13T10:21:01.881390Z"
    },
    "id": "qyxCLqW_MQ-K"
   },
   "outputs": [],
   "source": [
    "def two_body_eqm_derivatives(_y, t, _G, _mA, _mB):\n",
    "    \"\"\"\n",
    "    derivatives of the equations of motion describing the two-body system\n",
    "    t is unused, but we keep it for consistency with scipy requirement\n",
    "    \"\"\"\n",
    "    rA = _y[0, 0, :]\n",
    "    rB = _y[1, 0, :]\n",
    "\n",
    "    vA = _y[0, 1, :]\n",
    "    vB = _y[1, 1, :]\n",
    "\n",
    "    # magnitude of position vector from rA to rB\n",
    "    distance = np.linalg.norm(rB - rA)\n",
    "\n",
    "    # accelerations\n",
    "    aA = _G * _mA * ((rB - rA) / np.power(distance, 3))\n",
    "    aB = _G * _mB * ((rA - rB) / np.power(distance, 3))\n",
    "\n",
    "    derivatives = np.stack([np.stack([vA, aA]), np.stack([vB, aB])])\n",
    "\n",
    "    return derivatives\n"
   ]
  },
  {
   "cell_type": "markdown",
   "metadata": {
    "collapsed": false,
    "jupyter": {
     "outputs_hidden": false
    }
   },
   "source": [
    "### Forward time evolution of the system"
   ]
  },
  {
   "cell_type": "code",
   "execution_count": null,
   "metadata": {
    "collapsed": false,
    "jupyter": {
     "outputs_hidden": false
    }
   },
   "outputs": [],
   "source": [
    "dt = 0.001  # time step (s)\n",
    "tf = 1E2  # end of simulation (s)"
   ]
  },
  {
   "cell_type": "code",
   "execution_count": null,
   "metadata": {},
   "outputs": [],
   "source": [
    "def evolve(y0, tf, dt, method, params):\n",
    "    history = []\n",
    "    yn = y0\n",
    "    t_axis = np.arange(0, tf, dt)\n",
    "    for tn in t_axis:\n",
    "        yn = evolve_one_step(yn, tn, dt, method, params)\n",
    "        history.append(yn.copy())\n",
    "\n",
    "    history = np.stack(history, axis=-1)\n",
    "    return history"
   ]
  },
  {
   "cell_type": "markdown",
   "metadata": {
    "collapsed": false,
    "jupyter": {
     "outputs_hidden": false
    }
   },
   "source": [
    "### Euler's method"
   ]
  },
  {
   "cell_type": "code",
   "execution_count": null,
   "metadata": {},
   "outputs": [],
   "source": [
    "def evolve_one_step(yn, tn, dt, method, params):\n",
    "    if method == \"euler\":\n",
    "        f = two_body_eqm_derivatives(yn, tn, *params)\n",
    "        yn += f * dt\n",
    "    elif method == \"rk4\":\n",
    "        f1 = two_body_eqm_derivatives(yn, tn, *params)\n",
    "        f2 = two_body_eqm_derivatives(yn + f1 * dt / 2, tn + dt / 2, *params)\n",
    "        f3 = two_body_eqm_derivatives(yn + f2 * dt / 2, tn + dt / 2, *params)\n",
    "        f4 = two_body_eqm_derivatives(yn + f3 * dt, tn + dt, *params)\n",
    "        yn += (f1 + 2 * f2 + 2 * f3 + f4) * dt / 6\n",
    "\n",
    "    return yn"
   ]
  },
  {
   "cell_type": "markdown",
   "metadata": {
    "collapsed": false,
    "jupyter": {
     "outputs_hidden": false
    }
   },
   "source": [
    "### Running the simulation\n",
    "\n",
    "Finally, let's run the main `evolve` function:"
   ]
  },
  {
   "cell_type": "code",
   "execution_count": null,
   "metadata": {
    "ExecuteTime": {
     "end_time": "2023-10-13T10:21:01.894511Z",
     "start_time": "2023-10-13T10:21:01.892533Z"
    }
   },
   "outputs": [],
   "source": [
    "history = evolve(y0, tf, dt, \"euler\", params=(G, mA, mB))"
   ]
  },
  {
   "cell_type": "code",
   "execution_count": null,
   "metadata": {
    "ExecuteTime": {
     "end_time": "2023-10-13T10:21:02.125912Z",
     "start_time": "2023-10-13T10:21:01.896710Z"
    },
    "id": "jwO-Wn23O-Mv"
   },
   "outputs": [],
   "source": [
    "# if we want to compare with odeint from scipy\n",
    "#from scipy.integrate import odeint\n",
    "#history = odeint(two_body_eqm_derivatives, y0, np.arange(0, tf, dt), args=(G, mA, mB))"
   ]
  },
  {
   "cell_type": "markdown",
   "metadata": {
    "collapsed": false,
    "jupyter": {
     "outputs_hidden": false
    }
   },
   "source": [
    "As we can see, the `history` output looks like the initial state vector $y(0)$ but now it has an additional axis storing time information: it is, indeed, the whole sequence of $y(t)$ for $t=0, \\dots, t_f$."
   ]
  },
  {
   "cell_type": "code",
   "execution_count": null,
   "metadata": {},
   "outputs": [],
   "source": [
    "history.shape"
   ]
  },
  {
   "cell_type": "markdown",
   "metadata": {
    "collapsed": false,
    "jupyter": {
     "outputs_hidden": false
    }
   },
   "source": [
    "### Plotting the outcomes\n",
    "\n",
    "First let's extract the trajectories of both bodies from `history`, by remembering how indexing is done on multi-dimensional `numpy` arrays:"
   ]
  },
  {
   "cell_type": "code",
   "execution_count": null,
   "metadata": {
    "ExecuteTime": {
     "end_time": "2023-10-13T10:21:02.129206Z",
     "start_time": "2023-10-13T10:21:02.127094Z"
    }
   },
   "outputs": [],
   "source": [
    "# Trajectories\n",
    "xA = history[0, 0, 0, :]\n",
    "yA = history[0, 0, 1, :]\n",
    "zA = history[0, 0, 2, :]\n",
    "\n",
    "xB = history[1, 0, 0, :]\n",
    "yB = history[1, 0, 1, :]\n",
    "zB = history[1, 0, 2, :]"
   ]
  },
  {
   "cell_type": "markdown",
   "metadata": {
    "collapsed": false,
    "jupyter": {
     "outputs_hidden": false
    }
   },
   "source": [
    "For example, we can plot a single position coordinate against time."
   ]
  },
  {
   "cell_type": "code",
   "execution_count": null,
   "metadata": {
    "ExecuteTime": {
     "end_time": "2023-10-13T10:21:02.541313Z",
     "start_time": "2023-10-13T10:21:02.129750Z"
    }
   },
   "outputs": [],
   "source": [
    "px.line(xA)"
   ]
  },
  {
   "cell_type": "markdown",
   "metadata": {
    "collapsed": false,
    "jupyter": {
     "outputs_hidden": false
    }
   },
   "source": [
    "But we can do better: thanks to the `FuncAnimation` object from `matplotlib` we can display an animated 3d plot, where our two bodies can be seen dancing with one another."
   ]
  },
  {
   "cell_type": "code",
   "execution_count": null,
   "metadata": {
    "ExecuteTime": {
     "end_time": "2023-10-13T10:21:02.700836Z",
     "start_time": "2023-10-13T10:21:02.698149Z"
    },
    "colab": {
     "base_uri": "https://localhost:8080/",
     "height": 17
    },
    "id": "4FvxgpwFTvYH",
    "outputId": "ef313a28-99bd-4cc1-aca8-4692a66d43ff"
   },
   "outputs": [],
   "source": [
    "plt.style.use('dark_background')\n",
    "\n",
    "fig = plt.figure()\n",
    "ax = plt.axes(projection='3d')\n",
    "\n",
    "\n",
    "def animate(frame_num):\n",
    "    ax.clear()\n",
    "    ax.plot3D(xA[:frame_num], yA[:frame_num], zA[:frame_num], c='blue')\n",
    "    ax.scatter(xA[frame_num], yA[frame_num], zA[frame_num], c='blue', marker='o')\n",
    "\n",
    "    ax.plot3D(xB[:frame_num], yB[:frame_num], zB[:frame_num], c='orange')\n",
    "    ax.scatter(xB[frame_num], yB[frame_num], zB[frame_num], c='orange', marker='o')\n",
    "\n",
    "    xm = np.min(np.concatenate([xA, xB]))\n",
    "    xM = np.max(np.concatenate([xA, xB]))\n",
    "    ym = np.min(np.concatenate([yA, yB]))\n",
    "    yM = np.max(np.concatenate([yA, yB]))\n",
    "    zm = np.min(np.concatenate([zA, zB]))\n",
    "    zM = np.max(np.concatenate([zA, zB]))\n",
    "\n",
    "    ax.set(xlim3d=(xm, xM), xlabel='X')\n",
    "    ax.set(ylim3d=(ym, yM), ylabel='Y')\n",
    "    ax.set(zlim3d=(zm, zM), zlabel='Z')\n",
    "\n",
    "\n",
    "anim = FuncAnimation(fig, animate, frames=len(xA), interval=10, repeat=False)\n",
    "plt.show()"
   ]
  },
  {
   "cell_type": "code",
   "execution_count": null,
   "metadata": {},
   "outputs": [],
   "source": []
  },
  {
   "cell_type": "code",
   "execution_count": null,
   "metadata": {},
   "outputs": [],
   "source": []
  }
 ],
 "metadata": {
  "colab": {
   "provenance": []
  },
  "kernelspec": {
   "display_name": "Python 3 (ipykernel)",
   "language": "python",
   "name": "python3"
  },
  "language_info": {
   "codemirror_mode": {
    "name": "ipython",
    "version": 3
   },
   "file_extension": ".py",
   "mimetype": "text/x-python",
   "name": "python",
   "nbconvert_exporter": "python",
   "pygments_lexer": "ipython3",
   "version": "3.9.6"
  }
 },
 "nbformat": 4,
 "nbformat_minor": 4
}
